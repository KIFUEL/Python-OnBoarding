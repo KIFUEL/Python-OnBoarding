{
 "cells": [
  {
   "cell_type": "markdown",
   "metadata": {},
   "source": [
    "# Uso de funciones en Python"
   ]
  },
  {
   "cell_type": "markdown",
   "metadata": {},
   "source": [
    "Ejercicio 1: Trabajar con argumentos en funciones"
   ]
  },
  {
   "cell_type": "markdown",
   "metadata": {},
   "source": [
    "Comienza por crear una función que necesite tres lecturas de combustible y devuelva un informe:"
   ]
  },
  {
   "cell_type": "code",
   "execution_count": 4,
   "metadata": {},
   "outputs": [],
   "source": [
    "def informe_combustible(combustible1,combustible2,combustible3):\n",
    "    promedio = (combustible1 + combustible2 + combustible3) / 3\n",
    "    return(\"Promedio de combustible 3 tanques = \" + str(promedio))"
   ]
  },
  {
   "cell_type": "markdown",
   "metadata": {},
   "source": [
    "Ahora que hemos definido la función de informes, vamos a comprobarlo. Para esta misión, los tanques no están llenos:"
   ]
  },
  {
   "cell_type": "code",
   "execution_count": 8,
   "metadata": {},
   "outputs": [
    {
     "name": "stdout",
     "output_type": "stream",
     "text": [
      "Promedio de combustible 3 tanques = 36.666666666666664\n"
     ]
    }
   ],
   "source": [
    "print(informe_combustible(40,50,20))"
   ]
  },
  {
   "cell_type": "markdown",
   "metadata": {},
   "source": [
    "En lugar de simplemente crear el informe, la función también está calculando el promedio. Mejora la legibilidad extrayendo el cálculo promedio de la función en una nueva función para que el promedio se pueda hacer de forma independiente"
   ]
  },
  {
   "cell_type": "code",
   "execution_count": 6,
   "metadata": {},
   "outputs": [],
   "source": [
    "def funcion_promedio (combustible1,combustible2,combustible3):\n",
    "    promedio = (combustible1 + combustible2 + combustible3) / 3\n",
    "    return promedio\n",
    "\n"
   ]
  },
  {
   "cell_type": "markdown",
   "metadata": {},
   "source": [
    "Ahora actualiza la función de informes para llamando a la nueva función del promedio:"
   ]
  },
  {
   "cell_type": "code",
   "execution_count": 7,
   "metadata": {},
   "outputs": [],
   "source": [
    "def informe_combustible(combustible1,combustible2,combustible3):\n",
    "    promedio = funcion_promedio(combustible1,combustible2,combustible3)\n",
    "    return(\"Promedio de combustible 3 tanques = \" + str(promedio))"
   ]
  },
  {
   "cell_type": "markdown",
   "metadata": {},
   "source": [
    "# Trabajo con argumentos de palabra clave\n"
   ]
  },
  {
   "cell_type": "markdown",
   "metadata": {},
   "source": [
    "Ejercicio 2 : Trabajar con argumentos de palabras clave en funciones"
   ]
  },
  {
   "cell_type": "markdown",
   "metadata": {},
   "source": [
    "En este ejercicio, construirás un informe de cohete que requiere varias piezas de información, como el tiempo hasta el destino, el combustible a la izquierda y el nombre del destino. Comienza por crear una función que creará un informe preciso de la misión:"
   ]
  },
  {
   "cell_type": "code",
   "execution_count": 15,
   "metadata": {},
   "outputs": [
    {
     "name": "stdout",
     "output_type": "stream",
     "text": [
      "\n",
      "    Informe de vuelo\n",
      "    hora de lanzamiento: 0\n",
      "    tiempo de vuelo: 1\n",
      "    destino : 2\n",
      "    tanque externo: 3\n",
      "    tanque interno :4\n",
      "        \n"
     ]
    }
   ],
   "source": [
    "def informe_mision (hora_lanzamiento,tiempo_vuelo, destino,tanque_ext, tanque_int):\n",
    "    return f\"\"\"\n",
    "    Informe de vuelo\n",
    "    hora de lanzamiento: {0}\n",
    "    tiempo de vuelo: {1}\n",
    "    destino : {2}\n",
    "    tanque externo: {3}\n",
    "    tanque interno :{4}\n",
    "        \"\"\".format(hora_lanzamiento,tiempo_vuelo,destino,tanque_ext,tanque_int)\n",
    "\n",
    "print(informe_mision(10,60,\"cuba\",\"60%\",\"50%\"))"
   ]
  },
  {
   "cell_type": "markdown",
   "metadata": {},
   "source": [
    "La función es problemática porque no se puede adaptar para minutos adicionales o tanques adicionales de combustible. Hazlo más flexible permitiendo cualquier número de pasos basados en el tiempo y cualquier número de tanques. En lugar de usar *args y **kwargs, aprovecha el hecho de que puedes usar cualquier nombre que desees. Asegurate que la función sea más legible mediante el uso de nombres de variables que están asociados con las entradas, como *minutes y **fuel_reservoirs:"
   ]
  },
  {
   "cell_type": "code",
   "execution_count": 23,
   "metadata": {},
   "outputs": [
    {
     "name": "stdout",
     "output_type": "stream",
     "text": [
      "\n",
      "    Informe de vuelo\n",
      "    Tiempo de vuelo: 60123\n",
      "    destino : cuba\n",
      "    Combustible total: 1900 en litros\n",
      "        \n"
     ]
    }
   ],
   "source": [
    "def informe_mision (destino, *tiempo, **tanques):\n",
    "    return f\"\"\"\n",
    "    Informe de vuelo\n",
    "    Tiempo de vuelo: {sum(tiempo)}\n",
    "    destino : {destino}\n",
    "    Combustible total\n",
    "    : {sum(tanques.values())} en litros\n",
    "        \"\"\"\n",
    "\n",
    "print(informe_mision(\"cuba\",115,5454,54554,tanque1=1500,tanque2=400))"
   ]
  },
  {
   "cell_type": "markdown",
   "metadata": {},
   "source": [
    "Debido a que el combustible que queda en los tanques es específico de cada tanque, actualiza la función para usar el nombre de cada tanque en el informe:"
   ]
  },
  {
   "cell_type": "code",
   "execution_count": 35,
   "metadata": {},
   "outputs": [
    {
     "name": "stdout",
     "output_type": "stream",
     "text": [
      "\n",
      "    Informe de vuelo\n",
      "    Tiempo de vuelo: 60123\n",
      "    destino : cuba\n",
      "    Combustible total: 1900 en litros\n",
      "        \n",
      "Nombre \t combustible\n",
      "tanque1 \t 1500 \n",
      "tanque2 \t 400 \n"
     ]
    }
   ],
   "source": [
    "def informe_mision (destino, *tiempo, **tanques):\n",
    "    reporte =  f\"\"\"\n",
    "    Informe de vuelo\n",
    "    Tiempo de vuelo: {sum(tiempo)}\n",
    "    destino : {destino}\n",
    "    Combustible total: {sum(tanques.values())} en litros\n",
    "        \"\"\"\n",
    "    reporte = reporte + \"\\nNombre \\t combustible\"\n",
    "    for nombre, valor in tanques.items(): \n",
    "        reporte = reporte + f\"\\n{nombre} \\t {valor} \"\n",
    "    \n",
    "    return reporte\n",
    "\n",
    "\n",
    "\n",
    "print(informe_mision(\"cuba\",115,5454,54554,tanque1=1500,tanque2=400))"
   ]
  }
 ],
 "metadata": {
  "interpreter": {
   "hash": "3316974349769c849f31f133a220002da22a4dad912f22bb24f776166bd4027c"
  },
  "kernelspec": {
   "display_name": "Python 3.10.1 64-bit",
   "language": "python",
   "name": "python3"
  },
  "language_info": {
   "codemirror_mode": {
    "name": "ipython",
    "version": 3
   },
   "file_extension": ".py",
   "mimetype": "text/x-python",
   "name": "python",
   "nbconvert_exporter": "python",
   "pygments_lexer": "ipython3",
   "version": "3.10.1"
  },
  "orig_nbformat": 4
 },
 "nbformat": 4,
 "nbformat_minor": 2
}
